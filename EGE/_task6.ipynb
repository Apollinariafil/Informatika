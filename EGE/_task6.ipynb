{
 "cells": [
  {
   "cell_type": "code",
   "execution_count": 2,
   "metadata": {},
   "outputs": [],
   "source": [
    "from turtle import *\n",
    "\n",
    "lt(90)  # поворот на 90 градусов\n",
    "size = 20  # размер шага черепахи\n",
    "tracer(2)  # скорость\n",
    "down()  # опустить хвост\n",
    "for i in range(7):\n",
    "    forward(10 * size)\n",
    "    right(120)\n",
    "up()\n",
    "\n",
    "for x in range(-20, 20):\n",
    "    for y in range(-20, 20):\n",
    "        setpos(x * size, y * size)     # переместиться на позицую\n",
    "        dot(4, 'red') # размер и цвет точки\n",
    "done()"
   ]
  }
 ],
 "metadata": {
  "kernelspec": {
   "display_name": "Python 3",
   "language": "python",
   "name": "python3"
  },
  "language_info": {
   "codemirror_mode": {
    "name": "ipython",
    "version": 3
   },
   "file_extension": ".py",
   "mimetype": "text/x-python",
   "name": "python",
   "nbconvert_exporter": "python",
   "pygments_lexer": "ipython3",
   "version": "3.12.8"
  },
  "orig_nbformat": 4
 },
 "nbformat": 4,
 "nbformat_minor": 2
}
