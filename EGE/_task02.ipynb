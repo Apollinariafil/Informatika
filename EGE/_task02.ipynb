{
 "cells": [
  {
   "cell_type": "code",
   "execution_count": 7,
   "metadata": {},
   "outputs": [
    {
     "name": "stdout",
     "output_type": "stream",
     "text": [
      "w x y z\n",
      "((0, 1, 1, 1, 1), (0, 1, 1, 0, 1), (1, 0, 1, 0, 1))\n"
     ]
    }
   ],
   "source": [
    "from itertools import *\n",
    "def h(w, x, y, z):\n",
    "    return(not(y <= (x == w)) and (z <= x))\n",
    "\n",
    "for a, b, c, d, e in product([0, 1], repeat = 5):\n",
    "    table = ((a, 1, 1, b, 1),\n",
    "             (0, c, d, 0, 1),\n",
    "             (e, 0, 1, 0, 1))\n",
    "    if len(table) == len(set(table)):\n",
    "        for t in permutations('wxyz'):\n",
    "            if all(h(**dict(zip(t, r)))== r[-1] for r in table):\n",
    "                print(*t)\n",
    "                print(table)\n",
    "                \n",
    "                "
   ]
  }
 ],
 "metadata": {
  "kernelspec": {
   "display_name": "Python 3",
   "language": "python",
   "name": "python3"
  },
  "language_info": {
   "codemirror_mode": {
    "name": "ipython",
    "version": 3
   },
   "file_extension": ".py",
   "mimetype": "text/x-python",
   "name": "python",
   "nbconvert_exporter": "python",
   "pygments_lexer": "ipython3",
   "version": "3.12.8"
  },
  "orig_nbformat": 4
 },
 "nbformat": 4,
 "nbformat_minor": 2
}
