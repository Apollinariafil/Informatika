{
 "cells": [
  {
   "cell_type": "code",
   "execution_count": null,
   "metadata": {},
   "outputs": [],
   "source": [
    "\"\"\" Автомат получает на вход трёхзначное число. По этому числу строится новое число по следующим правилам.\n",
    "1.Складываются первая и вторая, а также вторая и третья цифры исходного числа.\n",
    "2.Полученные два числа записываются друг за другом в порядке убывания (без разделителей).\n",
    "Пример. Исходное число: 348. Суммы: 3+4=7; 4+8=12. Результат: 127. Укажите наименьшее число, в результате обработки которого автомат выдаст число 1412. \"\"\"\n",
    "\n",
    "\n"
   ]
  }
 ],
 "metadata": {
  "interpreter": {
   "hash": "1b4bcfc1956b5a96c4b5e9fdcd28ada205ed2537883aae69979c25d7008b8990"
  },
  "kernelspec": {
   "display_name": "Python 3.9.9 64-bit",
   "language": "python",
   "name": "python3"
  },
  "language_info": {
   "codemirror_mode": {
    "name": "ipython",
    "version": 3
   },
   "file_extension": ".py",
   "mimetype": "text/x-python",
   "name": "python",
   "nbconvert_exporter": "python",
   "pygments_lexer": "ipython3",
   "version": "3.9.9"
  },
  "orig_nbformat": 4
 },
 "nbformat": 4,
 "nbformat_minor": 2
}
